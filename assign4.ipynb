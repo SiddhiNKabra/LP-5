{
  "nbformat": 4,
  "nbformat_minor": 0,
  "metadata": {
    "colab": {
      "provenance": [],
      "gpuType": "T4",
      "authorship_tag": "ABX9TyNT1vZjsElNy4TGSasJ/x6s",
      "include_colab_link": true
    },
    "kernelspec": {
      "name": "python3",
      "display_name": "Python 3"
    },
    "language_info": {
      "name": "python"
    },
    "accelerator": "GPU"
  },
  "cells": [
    {
      "cell_type": "markdown",
      "metadata": {
        "id": "view-in-github",
        "colab_type": "text"
      },
      "source": [
        "<a href=\"https://colab.research.google.com/github/SiddhiNKabra/LP-5/blob/main/assign4.ipynb\" target=\"_parent\"><img src=\"https://colab.research.google.com/assets/colab-badge.svg\" alt=\"Open In Colab\"/></a>"
      ]
    },
    {
      "cell_type": "code",
      "source": [
        "%%writefile assign4.cu\n",
        "#include <cuda_runtime.h>\n",
        "#include <bits/stdc++.h>\n",
        "\n",
        "using namespace std;\n",
        "using namespace std::chrono;\n",
        "\n",
        "__global__ void multiply(int *A, int *B, int *C, int size) {\n",
        "    // blockIdx = which block\n",
        "    // threadIdx = which thread within the block\n",
        "    // blockDim = size of the block\n",
        "    int row = blockIdx.y * blockDim.y + threadIdx.y;\n",
        "    int col = blockIdx.x * blockDim.x + threadIdx.x;\n",
        "\n",
        "    if (row < size && col < size) {\n",
        "        int sum = 0;\n",
        "        for (int i=0; i<size; i++) {\n",
        "            sum += A[row * size + i] * B[i * size + col];  // dot product\n",
        "        }\n",
        "        C[row * size + col] = sum;\n",
        "    }\n",
        "}\n",
        "\n",
        "\n",
        "// optional: sequential matrix multiplication\n",
        "void seqMultiply(int *A, int *B, int *C, int size) {\n",
        "    // initialize result matrix to 0\n",
        "    for (int i = 0; i <size*size; i++) {\n",
        "        C[i] = 0;\n",
        "    }\n",
        "\n",
        "    for (int row=0; row<size; row++) {\n",
        "        for (int col=0; col<size; col++) {\n",
        "            int sum = 0;\n",
        "            for (int k=0; k<size; k++) {\n",
        "                sum += A[row * size + k] * B[k * size + col];\n",
        "            }\n",
        "            C[row * size + col] = sum;\n",
        "        }\n",
        "    }\n",
        "}\n",
        "\n",
        "\n",
        "void initialize(int *matrix, int size) {\n",
        "    for (int i=0; i<size*size; i++) {\n",
        "        matrix[i] = rand() % 10;\n",
        "    }\n",
        "}\n",
        "\n",
        "\n",
        "void print(int *matrix, int size) {\n",
        "    for (int row=0; row<size; row++) {\n",
        "        for (int col=0; col<size; col++) {\n",
        "            cout<<matrix[row*size + col]<<\" \";\n",
        "        }\n",
        "        cout<<endl;\n",
        "    }\n",
        "    cout<<endl;\n",
        "}\n",
        "\n",
        "\n",
        "int main() {\n",
        "\n",
        "    int N = 3;\n",
        "    int matrixSize = N * N;\n",
        "    size_t matrixBytes = matrixSize * sizeof(int);\n",
        "\n",
        "    int *A, *B, *C;\n",
        "    A = new int[matrixSize];\n",
        "    B = new int[matrixSize];\n",
        "    C = new int[matrixSize];\n",
        "\n",
        "    initialize(A, N);\n",
        "    initialize(B, N);\n",
        "\n",
        "    cout<<\"Matrix A: \\n\";\n",
        "    print(A, N);\n",
        "    cout<<\"Matrix B: \\n\";\n",
        "    print(B, N);\n",
        "\n",
        "    int *X, *Y, *Z;\n",
        "    cudaMalloc(&X, matrixBytes);\n",
        "    cudaMalloc(&Y, matrixBytes);\n",
        "    cudaMalloc(&Z, matrixBytes);\n",
        "\n",
        "    cudaMemcpy(X, A, matrixBytes, cudaMemcpyHostToDevice);\n",
        "    cudaMemcpy(Y, B, matrixBytes, cudaMemcpyHostToDevice);\n",
        "\n",
        "    // threads per CTA dimension\n",
        "    int THREADS = 3;\n",
        "\n",
        "    // blocks per grid dimension (assumes N is divisible by THREADS)\n",
        "    int BLOCKS = N / THREADS;\n",
        "\n",
        "    dim3 threads(THREADS, THREADS);  // each block has 9 threads arranged in a 3×3 grid\n",
        "    dim3 blocks(BLOCKS, BLOCKS);  // only 1 block is launched\n",
        "\n",
        "    // launch kernel\n",
        "    auto start = high_resolution_clock::now();\n",
        "    multiply<<<blocks, threads>>>(X, Y, Z, N);\n",
        "    cudaMemcpy(C, Z, matrixBytes, cudaMemcpyDeviceToHost);\n",
        "    auto stop = high_resolution_clock::now();\n",
        "\n",
        "    auto duration = duration_cast<microseconds>(stop-start);\n",
        "\n",
        "    cout<<\"Multiplication A x B: \\n\";\n",
        "    print(C, N);\n",
        "    cout<<\"Time: \"<<duration.count()<<\" microseconds\"<<endl;\n",
        "\n",
        "    delete[] A; delete[] B; delete[] C;\n",
        "    cudaFree(X); cudaFree(Y); cudaFree(Z);\n",
        "\n",
        "    return 0;\n",
        "}"
      ],
      "metadata": {
        "colab": {
          "base_uri": "https://localhost:8080/"
        },
        "id": "Zp8krMZQLU5h",
        "outputId": "30e2ac16-fb75-49dd-ad06-67d1fc62910a"
      },
      "execution_count": 2,
      "outputs": [
        {
          "output_type": "stream",
          "name": "stdout",
          "text": [
            "Writing assign4.cu\n"
          ]
        }
      ]
    },
    {
      "cell_type": "code",
      "source": [
        "!nvidia-smi"
      ],
      "metadata": {
        "colab": {
          "base_uri": "https://localhost:8080/"
        },
        "id": "OHVYyEVyLb1M",
        "outputId": "38cae7e1-9988-4ef9-b3eb-c4cd51895c23"
      },
      "execution_count": 3,
      "outputs": [
        {
          "output_type": "stream",
          "name": "stdout",
          "text": [
            "Mon May  5 16:01:53 2025       \n",
            "+-----------------------------------------------------------------------------------------+\n",
            "| NVIDIA-SMI 550.54.15              Driver Version: 550.54.15      CUDA Version: 12.4     |\n",
            "|-----------------------------------------+------------------------+----------------------+\n",
            "| GPU  Name                 Persistence-M | Bus-Id          Disp.A | Volatile Uncorr. ECC |\n",
            "| Fan  Temp   Perf          Pwr:Usage/Cap |           Memory-Usage | GPU-Util  Compute M. |\n",
            "|                                         |                        |               MIG M. |\n",
            "|=========================================+========================+======================|\n",
            "|   0  Tesla T4                       Off |   00000000:00:04.0 Off |                    0 |\n",
            "| N/A   46C    P8              9W /   70W |       0MiB /  15360MiB |      0%      Default |\n",
            "|                                         |                        |                  N/A |\n",
            "+-----------------------------------------+------------------------+----------------------+\n",
            "                                                                                         \n",
            "+-----------------------------------------------------------------------------------------+\n",
            "| Processes:                                                                              |\n",
            "|  GPU   GI   CI        PID   Type   Process name                              GPU Memory |\n",
            "|        ID   ID                                                               Usage      |\n",
            "|=========================================================================================|\n",
            "|  No running processes found                                                             |\n",
            "+-----------------------------------------------------------------------------------------+\n"
          ]
        }
      ]
    },
    {
      "cell_type": "code",
      "source": [
        "!nvcc -arch=sm_75 assign4.cu"
      ],
      "metadata": {
        "id": "nZ2vo1WwLqyH"
      },
      "execution_count": 4,
      "outputs": []
    },
    {
      "cell_type": "code",
      "source": [
        "!./a.out"
      ],
      "metadata": {
        "colab": {
          "base_uri": "https://localhost:8080/"
        },
        "id": "G-3CX-OnLu-N",
        "outputId": "3130c3b3-e331-47ab-996f-43850b55064f"
      },
      "execution_count": 5,
      "outputs": [
        {
          "output_type": "stream",
          "name": "stdout",
          "text": [
            "Matrix A: \n",
            "3 6 7 \n",
            "5 3 5 \n",
            "6 2 9 \n",
            "\n",
            "Matrix B: \n",
            "1 2 7 \n",
            "0 9 3 \n",
            "6 0 6 \n",
            "\n",
            "Multiplication A x B: \n",
            "45 60 81 \n",
            "35 37 74 \n",
            "60 30 102 \n",
            "\n",
            "Time: 139 microseconds\n"
          ]
        }
      ]
    },
    {
      "cell_type": "code",
      "source": [
        "%%writefile add_sub.cu\n",
        "#include <cuda_runtime.h>\n",
        "#include <bits/stdc++.h>\n",
        "\n",
        "using namespace std;\n",
        "using namespace std::chrono;\n",
        "\n",
        "// a function that runs on the GPU is declared with __global__\n",
        "__global__ void add(int *A, int *B, int *C, int size) {\n",
        "    // calculate the global thread ID \"id\"\n",
        "    // each GPU thread computes one element of the sum if \"id\" is within bounds.\n",
        "    int id = blockDim.x * blockIdx.x + threadIdx.x;\n",
        "    if (id < size) {\n",
        "        C[id] = A[id] + B[id];\n",
        "    }\n",
        "}\n",
        "\n",
        "// optional: sequential vector additionv\n",
        "void seqAdd(int *A, int *B, int *C, int size) {\n",
        "    for (int i=0; i<size; i++) {\n",
        "        C[i] = A[i] + B[i];\n",
        "    }\n",
        "}\n",
        "\n",
        "// fills vector with random integers (0 to 9).\n",
        "void initialize(int *vector, int size) {\n",
        "    for (int i=0; i<size; i++) {\n",
        "        vector[i] = rand() % 10;\n",
        "    }\n",
        "}\n",
        "\n",
        "void print(int *vector, int size) {\n",
        "    for (int i=0; i<size; i++) {\n",
        "        cout<<vector[i]<<\" \";\n",
        "    }\n",
        "    cout<<endl;\n",
        "}\n",
        "\n",
        "\n",
        "int main() {\n",
        "\n",
        "    int vectorSize = 4;\n",
        "    size_t vectorBytes = vectorSize * sizeof(int);\n",
        "\n",
        "    int *A, *B, *C;\n",
        "    A = new int[vectorSize];\n",
        "    B = new int[vectorSize];\n",
        "    C = new int[vectorSize];\n",
        "\n",
        "    initialize(A, vectorSize);\n",
        "    initialize(B, vectorSize);\n",
        "\n",
        "    cout<<\"\\nVector A: \";\n",
        "    print(A, vectorSize);\n",
        "    cout<<\"\\nVector B: \";\n",
        "    print(B, vectorSize);\n",
        "\n",
        "    // allocate memory on GPU (device) for vectors X, Y, and Z\n",
        "    int *X, *Y, *Z;\n",
        "    cudaMalloc(&X, vectorBytes);\n",
        "    cudaMalloc(&Y, vectorBytes);\n",
        "    cudaMalloc(&Z, vectorBytes);\n",
        "\n",
        "    // copy host data (A, B) to device memory (X, Y)\n",
        "    cudaMemcpy(X, A, vectorBytes, cudaMemcpyHostToDevice);\n",
        "    cudaMemcpy(Y, B, vectorBytes, cudaMemcpyHostToDevice);\n",
        "\n",
        "    int threadsPerBlock = 256;\n",
        "    int blocksPerGrid = (vectorSize + threadsPerBlock - 1) / threadsPerBlock;\n",
        "\n",
        "    // launch gpuAdd() on GPU\n",
        "    // each thread adds one pair of elements from X & Y\n",
        "    auto start = high_resolution_clock::now();\n",
        "    add<<<blocksPerGrid, threadsPerBlock>>>(X, Y, Z, vectorSize);\n",
        "    cudaMemcpy(C, Z, vectorBytes, cudaMemcpyDeviceToHost);  // transfer result vector Z from GPU to CPU (C)\n",
        "    auto stop = high_resolution_clock::now();\n",
        "\n",
        "    auto duration = duration_cast<microseconds>(stop-start);\n",
        "\n",
        "    cout<<\"\\nAddition: \";\n",
        "    print(C, vectorSize);\n",
        "    cout<<\"\\nTime: \"<<duration.count()<<\" microseconds\"<<endl;\n",
        "\n",
        "    // free all memory on host and device\n",
        "    free(A); free(B); free(C);\n",
        "    cudaFree(X); cudaFree(Y); cudaFree(Z);\n",
        "\n",
        "    return 0;\n",
        "}"
      ],
      "metadata": {
        "colab": {
          "base_uri": "https://localhost:8080/"
        },
        "id": "bIB9yGGqMYFB",
        "outputId": "9bb872e7-2836-4cfd-d885-fcefaa0f0c54"
      },
      "execution_count": 6,
      "outputs": [
        {
          "output_type": "stream",
          "name": "stdout",
          "text": [
            "Writing add_sub.cu\n"
          ]
        }
      ]
    },
    {
      "cell_type": "code",
      "source": [
        "!nvidia-smi"
      ],
      "metadata": {
        "colab": {
          "base_uri": "https://localhost:8080/"
        },
        "id": "FPLYVCr8Mh98",
        "outputId": "a26356da-e8ac-4502-d1fc-e9747cc25deb"
      },
      "execution_count": 7,
      "outputs": [
        {
          "output_type": "stream",
          "name": "stdout",
          "text": [
            "Mon May  5 16:05:51 2025       \n",
            "+-----------------------------------------------------------------------------------------+\n",
            "| NVIDIA-SMI 550.54.15              Driver Version: 550.54.15      CUDA Version: 12.4     |\n",
            "|-----------------------------------------+------------------------+----------------------+\n",
            "| GPU  Name                 Persistence-M | Bus-Id          Disp.A | Volatile Uncorr. ECC |\n",
            "| Fan  Temp   Perf          Pwr:Usage/Cap |           Memory-Usage | GPU-Util  Compute M. |\n",
            "|                                         |                        |               MIG M. |\n",
            "|=========================================+========================+======================|\n",
            "|   0  Tesla T4                       Off |   00000000:00:04.0 Off |                    0 |\n",
            "| N/A   40C    P8              9W /   70W |       0MiB /  15360MiB |      0%      Default |\n",
            "|                                         |                        |                  N/A |\n",
            "+-----------------------------------------+------------------------+----------------------+\n",
            "                                                                                         \n",
            "+-----------------------------------------------------------------------------------------+\n",
            "| Processes:                                                                              |\n",
            "|  GPU   GI   CI        PID   Type   Process name                              GPU Memory |\n",
            "|        ID   ID                                                               Usage      |\n",
            "|=========================================================================================|\n",
            "|  No running processes found                                                             |\n",
            "+-----------------------------------------------------------------------------------------+\n"
          ]
        }
      ]
    },
    {
      "cell_type": "code",
      "source": [
        "!nvcc -arch=sm_75 add_sub.cu"
      ],
      "metadata": {
        "id": "Jkl39ovQMk98"
      },
      "execution_count": 9,
      "outputs": []
    },
    {
      "cell_type": "code",
      "source": [
        "!./a.out"
      ],
      "metadata": {
        "colab": {
          "base_uri": "https://localhost:8080/"
        },
        "id": "mbdiYX4fMm5-",
        "outputId": "a8298827-f8e1-404e-c124-cdab6f34530e"
      },
      "execution_count": 10,
      "outputs": [
        {
          "output_type": "stream",
          "name": "stdout",
          "text": [
            "\n",
            "Vector A: 3 6 7 5 \n",
            "\n",
            "Vector B: 3 5 6 2 \n",
            "\n",
            "Addition: 6 11 13 7 \n",
            "\n",
            "Time: 105 microseconds\n"
          ]
        }
      ]
    }
  ]
}